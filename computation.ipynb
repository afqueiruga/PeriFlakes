{
 "cells": [
  {
   "cell_type": "markdown",
   "metadata": {},
   "source": [
    "# Computational Efficiency of Peridynamics"
   ]
  },
  {
   "cell_type": "code",
   "execution_count": 1,
   "metadata": {
    "collapsed": true
   },
   "outputs": [],
   "source": [
    "import numpy as np\n",
    "from matplotlib import pylab as plt\n",
    "%matplotlib inline\n",
    "import PeriFlakes"
   ]
  },
  {
   "cell_type": "markdown",
   "metadata": {},
   "source": [
    "## Data Access Patterns"
   ]
  },
  {
   "cell_type": "markdown",
   "metadata": {},
   "source": [
    "## Horizon size\n",
    "\n",
    "In the cornflakes graph representation, each edge contains the data vertex for the center point of the horizon, the neighbor points, and the bonds to the neighbors. The edges are stored like\n",
    "> Pt0 Pt1 Pt2... PtN Bond1 Bond2 ... BondN\n",
    "\n",
    "so that the total length of the edge is \n",
    "\\begin{equation}\n",
    "L_{edge}=2 N_{neighbor}+1\n",
    "\\end{equation}\n",
    "Let us examine how the stencil size, the number of neighbors plus one, depends on the relative horizon size, $RF=\\delta/h$"
   ]
  },
  {
   "cell_type": "code",
   "execution_count": 2,
   "metadata": {
    "scrolled": false
   },
   "outputs": [
    {
     "name": "stdout",
     "output_type": "stream",
     "text": [
      "1.5 4 6 9\n",
      "2.0 4 6 9\n",
      "2.5 8 11 13 15 18 21\n",
      "3.0 9 12 15 16 20 25\n",
      "3.5 13 17 20 22 26 29 31 34 37\n"
     ]
    }
   ],
   "source": [
    "for RF in [1.5,2.0,2.5,3.0,3.5]:\n",
    "    PB = PeriFlakes.PeriBlock(1,10,RF*2.0/10.0)\n",
    "    print RF,\n",
    "    for l in PB.HAdj.view():\n",
    "        print ((l.shape[-1]-1)/2)+1,\n",
    "    print"
   ]
  },
  {
   "cell_type": "markdown",
   "metadata": {},
   "source": [
    "Not every point has the same amount of points in its horizon; along the edges the points have smaller supports. For example, in the smallest case the corners only have four points in their horizon. Let us not concern ourselves with that means right now, and only look at the maximum value, which corresponds to the points whose horizons are fully contained in the domain."
   ]
  },
  {
   "cell_type": "code",
   "execution_count": 3,
   "metadata": {
    "scrolled": true
   },
   "outputs": [
    {
     "name": "stdout",
     "output_type": "stream",
     "text": [
      "1.5 9\n",
      "1.625 9\n",
      "1.75 9\n",
      "1.875 13\n",
      "2.0 13\n",
      "2.125 21\n",
      "2.25 21\n",
      "2.375 21\n",
      "2.5 21\n",
      "2.625 25\n",
      "2.75 25\n",
      "2.875 29\n",
      "3.0 37\n",
      "3.125 37\n",
      "3.25 37\n",
      "3.375 45\n",
      "3.5 45\n",
      "3.625 45\n",
      "3.75 49\n",
      "3.875 57\n",
      "4.0 61\n",
      "4.125 61\n",
      "4.25 69\n",
      "4.375 69\n",
      "4.5 69\n",
      "4.625 69\n",
      "4.75 89\n",
      "4.875 89\n",
      "5.0 97\n",
      "5.125 97\n",
      "5.25 101\n",
      "5.375 101\n"
     ]
    },
    {
     "data": {
      "text/plain": [
       "[<matplotlib.lines.Line2D at 0x109b0c9d0>]"
      ]
     },
     "execution_count": 3,
     "metadata": {},
     "output_type": "execute_result"
    },
    {
     "data": {
      "image/png": "[encoded data removed]",
      "text/plain": [
       "<matplotlib.figure.Figure at 0x102d25750>"
      ]
     },
     "metadata": {},
     "output_type": "display_data"
    }
   ],
   "source": [
    "RFs = np.arange(1.5,5.5,0.125)\n",
    "sups = []\n",
    "for RF in RFs:\n",
    "    PB = PeriFlakes.PeriBlock(1,50,RF*2.0/50.0)\n",
    "    supsize = ((max([l.shape[-1] for l in PB.HAdj.view() ])-1)/2)+1\n",
    "    #print RF,supsize\n",
    "    sups.append(supsize)\n",
    "plt.plot(RFs,sups,'-o')"
   ]
  },
  {
   "cell_type": "markdown",
   "metadata": {},
   "source": [
    "So we see that the number of points in the support increases greatly as the support radius increases. The staircasing is due to the discrete nature of the grid. The numbers might be a little bit of an overestimate due to extra buffer-room when cornflakes performs the geometric search (i.e. some points may have a weight of 0 during the calculation). It's pretty obvious that the trend is quadritic in 2D, and will be cubic in 3D. "
   ]
  },
  {
   "cell_type": "markdown",
   "metadata": {},
   "source": [
    "**The relative horizon size controls an intrinsic properties of the numerical discretization that governs its quality.** Below a certain limit, the method is invalid, and as it increases, it becomes computationally inefficient. \n",
    "\n",
    "With more points in a support, the kernel calculation requires more data. This adversely affects the data access patterns of the program."
   ]
  },
  {
   "cell_type": "code",
   "execution_count": 10,
   "metadata": {},
   "outputs": [
    {
     "data": {
      "text/plain": [
       "[<matplotlib.lines.Line2D at 0x108639b50>]"
      ]
     },
     "execution_count": 10,
     "metadata": {},
     "output_type": "execute_result"
    },
    {
     "data": {
      "image/png": "[encoded data removed]",
      "text/plain": [
       "<matplotlib.figure.Figure at 0x10ab51950>"
      ]
     },
     "metadata": {},
     "output_type": "display_data"
    }
   ],
   "source": [
    "# This is a very expensive cell!\n",
    "RFs = np.arange(1.5,5.5,0.125)\n",
    "nnzs = []\n",
    "for RF in RFs:\n",
    "    PB = PeriFlakes.PeriBlock(1,50,RF*2.0/50.0)\n",
    "    K,R = PB._assemble_KR('Silling','const')\n",
    "    nnzs.append(K.nnz)\n",
    "plt.plot(RFs,nnzs,'o-')"
   ]
  },
  {
   "cell_type": "markdown",
   "metadata": {},
   "source": [
    "This number of nonzeros is more than just how much memory the matrix takes up. This is a representation of the data access patterns of the program. Even using a matrix-free solution method, the computational cost of the system of equations increases greatly. "
   ]
  },
  {
   "cell_type": "code",
   "execution_count": null,
   "metadata": {
    "collapsed": true
   },
   "outputs": [],
   "source": [
    "RFs = np.arange(1.5,5.5,2.0)\n",
    "for RF in RFs:\n",
    "    PB = PeriFlakes.PeriBlock(1,10,RF*2.0/50.0)\n",
    "    K,R = PB._assemble_KR('Silling','const')\n",
    "    plt.spy(K)\n",
    "    plt.show()"
   ]
  },
  {
   "cell_type": "markdown",
   "metadata": {},
   "source": [
    "## The Finite Element Benchmark\n",
    "\n",
    "In a finite element code, the equivalent to the horizon computational hypergraph is the element connectivity table. So, the equivalent of a list of points in a horizon is the list of nodes in an element. Again, this is governed by the data access pattern of the computer program: which data is the input to the unit kernel of the numerical method. \n",
    "\n",
    "FEniCS isn't included in the cornflakes image, so I will just do some of the math by hand here, and then load anoher csv file from an experiment in the file [fenics_nnz.py](fenics_nnz.py).\n",
    "(TODO maybe I should put an FEM example into cornflakes?)"
   ]
  },
  {
   "cell_type": "code",
   "execution_count": null,
   "metadata": {
    "collapsed": true
   },
   "outputs": [],
   "source": []
  }
 ],
 "metadata": {
  "kernelspec": {
   "display_name": "Python 2",
   "language": "python",
   "name": "python2"
  },
  "language_info": {
   "codemirror_mode": {
    "name": "ipython",
    "version": 2
   },
   "file_extension": ".py",
   "mimetype": "text/x-python",
   "name": "python",
   "nbconvert_exporter": "python",
   "pygments_lexer": "ipython2",
   "version": "2.7.13"
  }
 },
 "nbformat": 4,
 "nbformat_minor": 2
}
