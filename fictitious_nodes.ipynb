{
 "cells": [
  {
   "cell_type": "markdown",
   "metadata": {},
   "source": [
    "# Surface Corrections\n"
   ]
  },
  {
   "cell_type": "code",
   "execution_count": 1,
   "metadata": {},
   "outputs": [],
   "source": [
    "from PeriFlakes import *\n",
    "from SimDataDB import *\n",
    "from matplotlib import pylab as plt\n",
    "%matplotlib inline\n",
    "plt.rcParams['figure.figsize'] = [6, 6]"
   ]
  },
  {
   "cell_type": "code",
   "execution_count": null,
   "metadata": {},
   "outputs": [],
   "source": []
  },
  {
   "cell_type": "code",
   "execution_count": 2,
   "metadata": {
    "collapsed": true
   },
   "outputs": [],
   "source": [
    "H = 2.0 ; T = 1.0 ; E = 1.0 ; nu = 0.0;\n",
    "solutions = {'uniaxial': (1, T*H*(2.0*nu**2+nu-1.0)/(E*(nu-1))),\n",
    "             'isotropic':(1, T*H*(1.0-nu-2.0*nu**2)/E),\n",
    "             'shear':    (0, 2.0*T*H*(1.0+nu)/E) }"
   ]
  },
  {
   "cell_type": "code",
   "execution_count": 3,
   "metadata": {},
   "outputs": [],
   "source": [
    "L=1.0\n",
    "N=20\n",
    "delta= 1.5*2.0*L/float(N)\n",
    "PB = PeriBlock(L,N,delta,ficticious=True,E=E,nu=nu)\n",
    "PB.setbcs([(PB.right,0),(PB.left,0),(PB.bottom,1)], [(PB.ftop,[0,1])])"
   ]
  },
  {
   "cell_type": "code",
   "execution_count": 5,
   "metadata": {
    "scrolled": false
   },
   "outputs": [
    {
     "data": {
      "image/png": "[encoded data removed]",
      "text/plain": [
       "<matplotlib.figure.Figure at 0x106757610>"
      ]
     },
     "metadata": {},
     "output_type": "display_data"
    },
    {
     "data": {
      "image/png": "[encoded data removed]",
      "text/plain": [
       "<matplotlib.figure.Figure at 0x106c533d0>"
      ]
     },
     "metadata": {},
     "output_type": "display_data"
    }
   ],
   "source": [
    "K,R = PB._assemble_KR(\"Fbased\",\"cubic\")\n",
    "plt.spy(K,marker=',')\n",
    "plt.show()\n",
    "Kf,Rf = PB._assemble_KR_fict(\"trivial\",\"Fbased\",\"cubic\")\n",
    "plt.spy(Kf,marker=',')\n",
    "plt.show()\n"
   ]
  },
  {
   "cell_type": "code",
   "execution_count": null,
   "metadata": {
    "scrolled": false
   },
   "outputs": [],
   "source": [
    "Kf,Rf = PB._assemble_KR_fict(\"bobaru\",\"Fbased\",\"cubic\")\n",
    "plt.spy(Kf,marker=',')\n",
    "plt.show()"
   ]
  },
  {
   "cell_type": "code",
   "execution_count": null,
   "metadata": {
    "collapsed": true
   },
   "outputs": [],
   "source": [
    "for e in PB.HFictStencil4:\n",
    "    print\n",
    "    for l in PB.dm_PtVec.Get_List(e):\n",
    "        for m in PB.dm_PtVec.Get_List(e):\n",
    "            print Kf[l,m],\n",
    "        print "
   ]
  },
  {
   "cell_type": "code",
   "execution_count": null,
   "metadata": {
    "collapsed": true
   },
   "outputs": [],
   "source": [
    "for e in PB.HFictStencil3:\n",
    "    print\n",
    "    print Rf[PB.dm_PtVec.Get_List(e)]\n",
    "    for l in PB.dm_PtVec.Get_List(e):\n",
    "        for m in PB.dm_PtVec.Get_List(e):\n",
    "            print Kf[l,m]/4.5,\n",
    "        \n",
    "        print "
   ]
  },
  {
   "cell_type": "markdown",
   "metadata": {},
   "source": [
    "## Finite difference stencil\n",
    "\n",
    "These types of surface correction effects are implemented in [ficticious_kernels_pop.py](PeriFlakes/ficticious_kernels_pop.py). \n",
    "The finite difference stencil can be generalized by defined a strain between two points,\n",
    "\\begin{equation}\n",
    "\\epsilon^{ab} = \\frac{\\left(\\mathbf{u}^a-\\mathbf{u}^b\\right)\\cdot\n",
    "\t                  \\left(\\mathbf{x}^a-\\mathbf{x}^b\\right) }{\n",
    "\t\t\t\t\t  \\left(\\mathbf{x}^a-\\mathbf{x}^b\\right)\\cdot\n",
    "\t                  \\left(\\mathbf{x}^a-\\mathbf{x}^b\\right) },\n",
    "\\end{equation}\n",
    "and a normal between two points,\n",
    "\\begin{equation}\n",
    "\\mathbf{n}^{ab} = \\frac{\\mathbf{x}^a-\\mathbf{x}^b}{\\left|\\mathbf{x}^a-\\mathbf{x}^b\\right|},\n",
    "\\end{equation}\n",
    "where $a$ and $b$ are index arguments.\n",
    "Then, in the direction normal to the surface, $\\mathbf{n}^n = \\mathbf{n}^{fo}$ and $\\epsilon^n=\\epsilon^{fo}$.\n",
    "In the tangential direction, the normal and strain are averaged by both directions to obtain a central finite difference,\n",
    "$\\mathbf{n}^t = \\left( \\mathbf{n}^{+o} + \\mathbf{n}^{o-} \\right) / 2$ and \n",
    "$\\epsilon^t = \\left( \\epsilon^{+o} + \\epsilon^{o-} \\right) / 2$. \n",
    "If the ficticious node is all the way at an end, only one of the winded directions is used. The final constraint is\n",
    "\\begin{equation}\n",
    "0 = \\epsilon^{n}\\mathbf{n}^n + \\nu \\epsilon^t \\mathbf{n}^t -\n",
    "\\bar{\\mathbf{t}} * \\frac{1}{E} \\left[\\begin{array}{cc}\n",
    "1+\\nu & 1-\\nu^{2}\\\\\\\\\n",
    "1-\\nu^{2} & 1+\\nu\n",
    "\\end{array} \\right] \\mathbf{n}^n\n",
    "\\end{equation}\n",
    "where $*$ is elementwise multiplication."
   ]
  },
  {
   "cell_type": "code",
   "execution_count": null,
   "metadata": {},
   "outputs": [],
   "source": [
    "u = PB.solve(\"Silling\",\"cubic\",stab=2,fictmet='bobaru')\n",
    "N = int(PB.NPart**0.5)\n",
    "u = u.reshape(N,N,2)\n",
    "x = PB.x.reshape(N,N,2)\n",
    "#ax = plt.gca()\n",
    "#ax.quiver(x[:,:,0],x[:,:,1],u[:,:,0],u[:,:,1],angles='uv',scale_units='xy',scale=10.0)\n",
    "#ax.set_aspect('equal', 'datalim')"
   ]
  },
  {
   "cell_type": "code",
   "execution_count": null,
   "metadata": {},
   "outputs": [],
   "source": [
    "plt.plot(x[:,N/2,1],u[:,N/2,1])\n",
    "plt.plot([-1,1],[0,0.5*solutions['uniaxial'][1]])\n",
    "plt.xlabel('y'); plt.ylabel('u_x');"
   ]
  },
  {
   "cell_type": "code",
   "execution_count": null,
   "metadata": {},
   "outputs": [],
   "source": [
    "plt.plot(x[:,N/2,1],u[N/2,:,0],label='halfway');\n",
    "plt.plot(x[:,N/2,1],u[-1,:,0],label='top');\n",
    "plt.legend()\n",
    "plt.xlabel('x'); plt.ylabel('u_x');"
   ]
  },
  {
   "cell_type": "code",
   "execution_count": null,
   "metadata": {
    "collapsed": true
   },
   "outputs": [],
   "source": []
  },
  {
   "cell_type": "code",
   "execution_count": null,
   "metadata": {
    "collapsed": true
   },
   "outputs": [],
   "source": []
  },
  {
   "cell_type": "code",
   "execution_count": null,
   "metadata": {
    "collapsed": true
   },
   "outputs": [],
   "source": []
  },
  {
   "cell_type": "code",
   "execution_count": null,
   "metadata": {
    "collapsed": true
   },
   "outputs": [],
   "source": []
  },
  {
   "cell_type": "code",
   "execution_count": null,
   "metadata": {
    "collapsed": true
   },
   "outputs": [],
   "source": []
  }
 ],
 "metadata": {
  "kernelspec": {
   "display_name": "Python 2",
   "language": "python",
   "name": "python2"
  },
  "language_info": {
   "codemirror_mode": {
    "name": "ipython",
    "version": 2
   },
   "file_extension": ".py",
   "mimetype": "text/x-python",
   "name": "python",
   "nbconvert_exporter": "python",
   "pygments_lexer": "ipython2",
   "version": "2.7.13"
  }
 },
 "nbformat": 4,
 "nbformat_minor": 2
}
