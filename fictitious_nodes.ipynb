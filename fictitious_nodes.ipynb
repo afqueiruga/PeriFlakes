{
 "cells": [
  {
   "cell_type": "markdown",
   "metadata": {},
   "source": [
    "# Surface Corrections\n"
   ]
  },
  {
   "cell_type": "code",
   "execution_count": 1,
   "metadata": {
    "collapsed": false
   },
   "outputs": [],
   "source": [
    "from PeriFlakes import *\n",
    "from SimDataDB import *\n",
    "from matplotlib import pylab as plt\n",
    "%matplotlib inline\n",
    "plt.rcParams['figure.figsize'] = [6, 6]"
   ]
  },
  {
   "cell_type": "code",
   "execution_count": 2,
   "metadata": {
    "collapsed": false
   },
   "outputs": [],
   "source": [
    "sdb = SimDataDB('surfaceresults.db')"
   ]
  },
  {
   "cell_type": "code",
   "execution_count": 14,
   "metadata": {
    "collapsed": true
   },
   "outputs": [],
   "source": [
    "H = 2.0 ; T = 1.0 ; E = 1.0 ; nu = 0.0;\n",
    "solutions = {'uniaxial': (1, T*H*(2.0*nu**2+nu-1.0)/(E*(nu-1))),\n",
    "             'isotropic':(1, T*H*(1.0-nu-2.0*nu**2)/E),\n",
    "             'shear':    (0, 2.0*T*H*(1.0+nu)/E) }"
   ]
  },
  {
   "cell_type": "code",
   "execution_count": 25,
   "metadata": {
    "collapsed": false
   },
   "outputs": [],
   "source": [
    "L=1.0\n",
    "N=10\n",
    "delta= 1.5*2.0*L/float(N)\n",
    "PB = PeriBlock(L,N,delta,ficticious=True,E=E,nu=nu)\n",
    "PB.setbcs([(PB.right,0),(PB.left,0),(PB.bottom,1)], [(PB.top,[0,1])])"
   ]
  },
  {
   "cell_type": "code",
   "execution_count": 26,
   "metadata": {
    "collapsed": false,
    "scrolled": false
   },
   "outputs": [
    {
     "data": {
      "image/png": "[encoded data removed]",
      "text/plain": [
       "<matplotlib.figure.Figure at 0x7f04a75a3410>"
      ]
     },
     "metadata": {},
     "output_type": "display_data"
    },
    {
     "data": {
      "image/png": "[encoded data removed]",
      "text/plain": [
       "<matplotlib.figure.Figure at 0x7f04a78a3250>"
      ]
     },
     "metadata": {},
     "output_type": "display_data"
    }
   ],
   "source": [
    "K,R = PB._assemble_KR(\"Fbased\",\"cubic\")\n",
    "plt.spy(K,marker=',')\n",
    "plt.show()\n",
    "Kf,Rf = PB._assemble_KR_fict(\"standard\",\"Fbased\",\"cubic\")\n",
    "plt.spy(Kf,marker=',')\n",
    "plt.show()\n"
   ]
  },
  {
   "cell_type": "code",
   "execution_count": 27,
   "metadata": {
    "collapsed": false,
    "scrolled": false
   },
   "outputs": [
    {
     "data": {
      "image/png": "[encoded data removed]",
      "text/plain": [
       "<matplotlib.figure.Figure at 0x7f04a75704d0>"
      ]
     },
     "metadata": {},
     "output_type": "display_data"
    }
   ],
   "source": [
    "Kf,Rf = PB._assemble_KR_fict(\"bobaru\",\"Fbased\",\"cubic\")\n",
    "plt.spy(Kf,marker=',')\n",
    "plt.show()"
   ]
  },
  {
   "cell_type": "code",
   "execution_count": 28,
   "metadata": {
    "collapsed": false,
    "scrolled": true
   },
   "outputs": [
    {
     "data": {
      "text/plain": [
       "[array([[  1,  13,  14,  12],\n",
       "        [  2,  14,  13,  15],\n",
       "        [  3,  15,  14,  16],\n",
       "        [  4,  16,  17,  15],\n",
       "        [  5,  17,  18,  16],\n",
       "        [  6,  18,  17,  19],\n",
       "        [  7,  19,  18,  20],\n",
       "        [  8,  20,  19,  21],\n",
       "        [  9,  21,  22,  20],\n",
       "        [ 10,  22,  21,  23],\n",
       "        [ 12,  13,  25,   1],\n",
       "        [ 23,  22,  34,  10],\n",
       "        [ 24,  25,  13,  37],\n",
       "        [ 35,  34,  22,  46],\n",
       "        [ 36,  37,  25,  49],\n",
       "        [ 47,  46,  34,  58],\n",
       "        [ 48,  49,  61,  37],\n",
       "        [ 59,  58,  70,  46],\n",
       "        [ 60,  61,  73,  49],\n",
       "        [ 71,  70,  82,  58],\n",
       "        [ 72,  73,  61,  85],\n",
       "        [ 83,  82,  70,  94],\n",
       "        [ 84,  85,  73,  97],\n",
       "        [ 95,  94,  82, 106],\n",
       "        [ 96,  97,  85, 109],\n",
       "        [107, 106,  94, 118],\n",
       "        [108, 109, 121,  97],\n",
       "        [119, 118, 130, 106],\n",
       "        [120, 121, 109, 133],\n",
       "        [131, 130, 118, 142],\n",
       "        [133, 121, 122, 120],\n",
       "        [134, 122, 121, 123],\n",
       "        [135, 123, 122, 124],\n",
       "        [136, 124, 125, 123],\n",
       "        [137, 125, 126, 124],\n",
       "        [138, 126, 125, 127],\n",
       "        [139, 127, 126, 128],\n",
       "        [140, 128, 127, 129],\n",
       "        [141, 129, 130, 128],\n",
       "        [142, 130, 129, 131]], dtype=int32)]"
      ]
     },
     "execution_count": 28,
     "metadata": {},
     "output_type": "execute_result"
    }
   ],
   "source": [
    "PB.HFictStencil4.view()"
   ]
  },
  {
   "cell_type": "code",
   "execution_count": 29,
   "metadata": {
    "collapsed": false,
    "scrolled": true
   },
   "outputs": [
    {
     "name": "stdout",
     "output_type": "stream",
     "text": [
      "\n",
      "1.0 0.0 -1.0 0.0 0.0 0.0 0.0 0.0\n",
      "0.0 1.0 0.0 -1.0 0.0 0.0 0.0 0.0\n",
      "0.0 0.0 0.0 0.0 0.0 0.0 0.0 0.0\n",
      "0.0 0.0 0.0 0.0 0.0 0.0 0.0 0.0\n",
      "0.0 0.0 0.0 0.0 0.0 0.0 0.0 0.0\n",
      "0.0 0.0 0.0 0.0 0.0 0.0 0.0 0.0\n",
      "0.0 0.0 -1.0 0.0 0.0 0.0 1.0 0.0\n",
      "0.0 0.0 0.0 -1.0 0.0 0.0 0.0 1.0\n",
      "\n",
      "1.0 0.0 -1.0 0.0 0.0 0.0 0.0 0.0\n",
      "0.0 1.0 0.0 -1.0 0.0 0.0 0.0 0.0\n",
      "0.0 0.0 0.0 0.0 0.0 0.0 0.0 0.0\n",
      "0.0 0.0 0.0 0.0 0.0 0.0 0.0 0.0\n",
      "0.0 0.0 0.0 0.0 0.0 0.0 0.0 0.0\n",
      "0.0 0.0 0.0 0.0 0.0 0.0 0.0 0.0\n",
      "0.0 0.0 0.0 0.0 0.0 0.0 0.0 0.0\n",
      "0.0 0.0 0.0 0.0 0.0 0.0 0.0 0.0\n",
      "\n",
      "1.0 0.0 -1.0 0.0 0.0 0.0 0.0 0.0\n",
      "0.0 1.0 0.0 -1.0 0.0 0.0 0.0 0.0\n",
      "0.0 0.0 0.0 0.0 0.0 0.0 0.0 0.0\n",
      "0.0 0.0 0.0 0.0 0.0 0.0 0.0 0.0\n",
      "0.0 0.0 0.0 0.0 0.0 0.0 0.0 0.0\n",
      "0.0 0.0 0.0 0.0 0.0 0.0 0.0 0.0\n",
      "0.0 0.0 0.0 0.0 0.0 0.0 0.0 0.0\n",
      "0.0 0.0 0.0 0.0 0.0 0.0 0.0 0.0\n",
      "\n",
      "1.0 0.0 -1.0 0.0 0.0 0.0 0.0 0.0\n",
      "0.0 1.0 0.0 -1.0 0.0 0.0 0.0 0.0\n",
      "0.0 0.0 0.0 0.0 0.0 0.0 0.0 0.0\n",
      "0.0 0.0 0.0 0.0 0.0 0.0 0.0 0.0\n",
      "0.0 0.0 0.0 0.0 0.0 0.0 0.0 0.0\n",
      "0.0 0.0 0.0 0.0 0.0 0.0 0.0 0.0\n",
      "0.0 0.0 0.0 0.0 0.0 0.0 0.0 0.0\n",
      "0.0 0.0 0.0 0.0 0.0 0.0 0.0 0.0\n",
      "\n",
      "1.0 0.0 -1.0 0.0 0.0 0.0 0.0 0.0\n",
      "0.0 1.0 0.0 -1.0 0.0 0.0 0.0 0.0\n",
      "0.0 0.0 0.0 0.0 0.0 0.0 0.0 0.0\n",
      "0.0 0.0 0.0 0.0 0.0 0.0 0.0 0.0\n",
      "0.0 0.0 0.0 0.0 0.0 0.0 0.0 0.0\n",
      "0.0 0.0 0.0 0.0 0.0 0.0 0.0 0.0\n",
      "0.0 0.0 0.0 0.0 0.0 0.0 0.0 0.0\n",
      "0.0 0.0 0.0 0.0 0.0 0.0 0.0 0.0\n",
      "\n",
      "1.0 0.0 -1.0 0.0 0.0 0.0 0.0 0.0\n",
      "0.0 1.0 0.0 -1.0 0.0 0.0 0.0 0.0\n",
      "0.0 0.0 0.0 0.0 0.0 0.0 0.0 0.0\n",
      "0.0 0.0 0.0 0.0 0.0 0.0 0.0 0.0\n",
      "0.0 0.0 0.0 0.0 0.0 0.0 0.0 0.0\n",
      "0.0 0.0 0.0 0.0 0.0 0.0 0.0 0.0\n",
      "0.0 0.0 0.0 0.0 0.0 0.0 0.0 0.0\n",
      "0.0 0.0 0.0 0.0 0.0 0.0 0.0 0.0\n",
      "\n",
      "1.0 0.0 -1.0 0.0 0.0 0.0 0.0 0.0\n",
      "0.0 1.0 0.0 -1.0 0.0 0.0 0.0 0.0\n",
      "0.0 0.0 0.0 0.0 0.0 0.0 0.0 0.0\n",
      "0.0 0.0 0.0 0.0 0.0 0.0 0.0 0.0\n",
      "0.0 0.0 0.0 0.0 0.0 0.0 0.0 0.0\n",
      "0.0 0.0 0.0 0.0 0.0 0.0 0.0 0.0\n",
      "0.0 0.0 0.0 0.0 0.0 0.0 0.0 0.0\n",
      "0.0 0.0 0.0 0.0 0.0 0.0 0.0 0.0\n",
      "\n",
      "1.0 0.0 -1.0 0.0 0.0 0.0 0.0 0.0\n",
      "0.0 1.0 0.0 -1.0 0.0 0.0 0.0 0.0\n",
      "0.0 0.0 0.0 0.0 0.0 0.0 0.0 0.0\n",
      "0.0 0.0 0.0 0.0 0.0 0.0 0.0 0.0\n",
      "0.0 0.0 0.0 0.0 0.0 0.0 0.0 0.0\n",
      "0.0 0.0 0.0 0.0 0.0 0.0 0.0 0.0\n",
      "0.0 0.0 0.0 0.0 0.0 0.0 0.0 0.0\n",
      "0.0 0.0 0.0 0.0 0.0 0.0 0.0 0.0\n",
      "\n",
      "1.0 0.0 -1.0 0.0 0.0 0.0 0.0 0.0\n",
      "0.0 1.0 0.0 -1.0 0.0 0.0 0.0 0.0\n",
      "0.0 0.0 0.0 0.0 0.0 0.0 0.0 0.0\n",
      "0.0 0.0 0.0 0.0 0.0 0.0 0.0 0.0\n",
      "0.0 0.0 0.0 0.0 0.0 0.0 0.0 0.0\n",
      "0.0 0.0 0.0 0.0 0.0 0.0 0.0 0.0\n",
      "0.0 0.0 0.0 0.0 0.0 0.0 0.0 0.0\n",
      "0.0 0.0 0.0 0.0 0.0 0.0 0.0 0.0\n",
      "\n",
      "1.0 0.0 -1.0 0.0 0.0 0.0 0.0 0.0\n",
      "0.0 1.0 0.0 -1.0 0.0 0.0 0.0 0.0\n",
      "0.0 0.0 0.0 0.0 0.0 0.0 0.0 0.0\n",
      "0.0 0.0 0.0 0.0 0.0 0.0 0.0 0.0\n",
      "0.0 0.0 0.0 0.0 0.0 0.0 0.0 0.0\n",
      "0.0 0.0 0.0 0.0 0.0 0.0 0.0 0.0\n",
      "0.0 0.0 -1.0 0.0 0.0 0.0 1.0 0.0\n",
      "0.0 0.0 0.0 -1.0 0.0 0.0 0.0 1.0\n",
      "\n",
      "1.0 0.0 -1.0 0.0 0.0 0.0 0.0 0.0\n",
      "0.0 1.0 0.0 -1.0 0.0 0.0 0.0 0.0\n",
      "0.0 0.0 0.0 0.0 0.0 0.0 0.0 0.0\n",
      "0.0 0.0 0.0 0.0 0.0 0.0 0.0 0.0\n",
      "0.0 0.0 0.0 0.0 0.0 0.0 0.0 0.0\n",
      "0.0 0.0 0.0 0.0 0.0 0.0 0.0 0.0\n",
      "0.0 0.0 -1.0 0.0 0.0 0.0 1.0 0.0\n",
      "0.0 0.0 0.0 -1.0 0.0 0.0 0.0 1.0\n",
      "\n",
      "1.0 0.0 -1.0 0.0 0.0 0.0 0.0 0.0\n",
      "0.0 1.0 0.0 -1.0 0.0 0.0 0.0 0.0\n",
      "0.0 0.0 0.0 0.0 0.0 0.0 0.0 0.0\n",
      "0.0 0.0 0.0 0.0 0.0 0.0 0.0 0.0\n",
      "0.0 0.0 0.0 0.0 0.0 0.0 0.0 0.0\n",
      "0.0 0.0 0.0 0.0 0.0 0.0 0.0 0.0\n",
      "0.0 0.0 -1.0 0.0 0.0 0.0 1.0 0.0\n",
      "0.0 0.0 0.0 -1.0 0.0 0.0 0.0 1.0\n",
      "\n",
      "1.0 0.0 -1.0 0.0 0.0 0.0 0.0 0.0\n",
      "0.0 1.0 0.0 -1.0 0.0 0.0 0.0 0.0\n",
      "0.0 0.0 0.0 0.0 0.0 0.0 0.0 0.0\n",
      "0.0 0.0 0.0 0.0 0.0 0.0 0.0 0.0\n",
      "0.0 0.0 0.0 0.0 0.0 0.0 0.0 0.0\n",
      "0.0 0.0 0.0 0.0 0.0 0.0 0.0 0.0\n",
      "0.0 0.0 0.0 0.0 0.0 0.0 0.0 0.0\n",
      "0.0 0.0 0.0 0.0 0.0 0.0 0.0 0.0\n",
      "\n",
      "1.0 0.0 -1.0 0.0 0.0 0.0 0.0 0.0\n",
      "0.0 1.0 0.0 -1.0 0.0 0.0 0.0 0.0\n",
      "0.0 0.0 0.0 0.0 0.0 0.0 0.0 0.0\n",
      "0.0 0.0 0.0 0.0 0.0 0.0 0.0 0.0\n",
      "0.0 0.0 0.0 0.0 0.0 0.0 0.0 0.0\n",
      "0.0 0.0 0.0 0.0 0.0 0.0 0.0 0.0\n",
      "0.0 0.0 0.0 0.0 0.0 0.0 0.0 0.0\n",
      "0.0 0.0 0.0 0.0 0.0 0.0 0.0 0.0\n",
      "\n",
      "1.0 0.0 -1.0 0.0 0.0 0.0 0.0 0.0\n",
      "0.0 1.0 0.0 -1.0 0.0 0.0 0.0 0.0\n",
      "0.0 0.0 0.0 0.0 0.0 0.0 0.0 0.0\n",
      "0.0 0.0 0.0 0.0 0.0 0.0 0.0 0.0\n",
      "0.0 0.0 0.0 0.0 0.0 0.0 0.0 0.0\n",
      "0.0 0.0 0.0 0.0 0.0 0.0 0.0 0.0\n",
      "0.0 0.0 0.0 0.0 0.0 0.0 0.0 0.0\n",
      "0.0 0.0 0.0 0.0 0.0 0.0 0.0 0.0\n",
      "\n",
      "1.0 0.0 -1.0 0.0 0.0 0.0 0.0 0.0\n",
      "0.0 1.0 0.0 -1.0 0.0 0.0 0.0 0.0\n",
      "0.0 0.0 0.0 0.0 0.0 0.0 0.0 0.0\n",
      "0.0 0.0 0.0 0.0 0.0 0.0 0.0 0.0\n",
      "0.0 0.0 0.0 0.0 0.0 0.0 0.0 0.0\n",
      "0.0 0.0 0.0 0.0 0.0 0.0 0.0 0.0\n",
      "0.0 0.0 0.0 0.0 0.0 0.0 0.0 0.0\n",
      "0.0 0.0 0.0 0.0 0.0 0.0 0.0 0.0\n",
      "\n",
      "1.0 0.0 -1.0 0.0 0.0 0.0 0.0 0.0\n",
      "0.0 1.0 0.0 -1.0 0.0 0.0 0.0 0.0\n",
      "0.0 0.0 0.0 0.0 0.0 0.0 0.0 0.0\n",
      "0.0 0.0 0.0 0.0 0.0 0.0 0.0 0.0\n",
      "0.0 0.0 0.0 0.0 0.0 0.0 0.0 0.0\n",
      "0.0 0.0 0.0 0.0 0.0 0.0 0.0 0.0\n",
      "0.0 0.0 0.0 0.0 0.0 0.0 0.0 0.0\n",
      "0.0 0.0 0.0 0.0 0.0 0.0 0.0 0.0\n",
      "\n",
      "1.0 0.0 -1.0 0.0 0.0 0.0 0.0 0.0\n",
      "0.0 1.0 0.0 -1.0 0.0 0.0 0.0 0.0\n",
      "0.0 0.0 0.0 0.0 0.0 0.0 0.0 0.0\n",
      "0.0 0.0 0.0 0.0 0.0 0.0 0.0 0.0\n",
      "0.0 0.0 0.0 0.0 0.0 0.0 0.0 0.0\n",
      "0.0 0.0 0.0 0.0 0.0 0.0 0.0 0.0\n",
      "0.0 0.0 0.0 0.0 0.0 0.0 0.0 0.0\n",
      "0.0 0.0 0.0 0.0 0.0 0.0 0.0 0.0\n",
      "\n",
      "1.0 0.0 -1.0 0.0 0.0 0.0 0.0 0.0\n",
      "0.0 1.0 0.0 -1.0 0.0 0.0 0.0 0.0\n",
      "0.0 0.0 0.0 0.0 0.0 0.0 0.0 0.0\n",
      "0.0 0.0 0.0 0.0 0.0 0.0 0.0 0.0\n",
      "0.0 0.0 0.0 0.0 0.0 0.0 0.0 0.0\n",
      "0.0 0.0 0.0 0.0 0.0 0.0 0.0 0.0\n",
      "0.0 0.0 0.0 0.0 0.0 0.0 0.0 0.0\n",
      "0.0 0.0 0.0 0.0 0.0 0.0 0.0 0.0\n",
      "\n",
      "1.0 0.0 -1.0 0.0 0.0 0.0 0.0 0.0\n",
      "0.0 1.0 0.0 -1.0 0.0 0.0 0.0 0.0\n",
      "0.0 0.0 0.0 0.0 0.0 0.0 0.0 0.0\n",
      "0.0 0.0 0.0 0.0 0.0 0.0 0.0 0.0\n",
      "0.0 0.0 0.0 0.0 0.0 0.0 0.0 0.0\n",
      "0.0 0.0 0.0 0.0 0.0 0.0 0.0 0.0\n",
      "0.0 0.0 0.0 0.0 0.0 0.0 0.0 0.0\n",
      "0.0 0.0 0.0 0.0 0.0 0.0 0.0 0.0\n",
      "\n",
      "1.0 0.0 -1.0 0.0 0.0 0.0 0.0 0.0\n",
      "0.0 1.0 0.0 -1.0 0.0 0.0 0.0 0.0\n",
      "0.0 0.0 0.0 0.0 0.0 0.0 0.0 0.0\n",
      "0.0 0.0 0.0 0.0 0.0 0.0 0.0 0.0\n",
      "0.0 0.0 0.0 0.0 0.0 0.0 0.0 0.0\n",
      "0.0 0.0 0.0 0.0 0.0 0.0 0.0 0.0\n",
      "0.0 0.0 0.0 0.0 0.0 0.0 0.0 0.0\n",
      "0.0 0.0 0.0 0.0 0.0 0.0 0.0 0.0\n",
      "\n",
      "1.0 0.0 -1.0 0.0 0.0 0.0 0.0 0.0\n",
      "0.0 1.0 0.0 -1.0 0.0 0.0 0.0 0.0\n",
      "0.0 0.0 0.0 0.0 0.0 0.0 0.0 0.0\n",
      "0.0 0.0 0.0 0.0 0.0 0.0 0.0 0.0\n",
      "0.0 0.0 0.0 0.0 0.0 0.0 0.0 0.0\n",
      "0.0 0.0 0.0 0.0 0.0 0.0 0.0 0.0\n",
      "0.0 0.0 0.0 0.0 0.0 0.0 0.0 0.0\n",
      "0.0 0.0 0.0 0.0 0.0 0.0 0.0 0.0\n",
      "\n",
      "1.0 0.0 -1.0 0.0 0.0 0.0 0.0 0.0\n",
      "0.0 1.0 0.0 -1.0 0.0 0.0 0.0 0.0\n",
      "0.0 0.0 0.0 0.0 0.0 0.0 0.0 0.0\n",
      "0.0 0.0 0.0 0.0 0.0 0.0 0.0 0.0\n",
      "0.0 0.0 0.0 0.0 0.0 0.0 0.0 0.0\n",
      "0.0 0.0 0.0 0.0 0.0 0.0 0.0 0.0\n",
      "0.0 0.0 0.0 0.0 0.0 0.0 0.0 0.0\n",
      "0.0 0.0 0.0 0.0 0.0 0.0 0.0 0.0\n",
      "\n",
      "1.0 0.0 -1.0 0.0 0.0 0.0 0.0 0.0\n",
      "0.0 1.0 0.0 -1.0 0.0 0.0 0.0 0.0\n",
      "0.0 0.0 0.0 0.0 0.0 0.0 0.0 0.0\n",
      "0.0 0.0 0.0 0.0 0.0 0.0 0.0 0.0\n",
      "0.0 0.0 0.0 0.0 0.0 0.0 0.0 0.0\n",
      "0.0 0.0 0.0 0.0 0.0 0.0 0.0 0.0\n",
      "0.0 0.0 0.0 0.0 0.0 0.0 0.0 0.0\n",
      "0.0 0.0 0.0 0.0 0.0 0.0 0.0 0.0\n",
      "\n",
      "1.0 0.0 -1.0 0.0 0.0 0.0 0.0 0.0\n",
      "0.0 1.0 0.0 -1.0 0.0 0.0 0.0 0.0\n",
      "0.0 0.0 0.0 0.0 0.0 0.0 0.0 0.0\n",
      "0.0 0.0 0.0 0.0 0.0 0.0 0.0 0.0\n",
      "0.0 0.0 0.0 0.0 0.0 0.0 0.0 0.0\n",
      "0.0 0.0 0.0 0.0 0.0 0.0 0.0 0.0\n",
      "0.0 0.0 0.0 0.0 0.0 0.0 0.0 0.0\n",
      "0.0 0.0 0.0 0.0 0.0 0.0 0.0 0.0\n",
      "\n",
      "1.0 0.0 -1.0 0.0 0.0 0.0 0.0 0.0\n",
      "0.0 1.0 0.0 -1.0 0.0 0.0 0.0 0.0\n",
      "0.0 0.0 0.0 0.0 0.0 0.0 0.0 0.0\n",
      "0.0 0.0 0.0 0.0 0.0 0.0 0.0 0.0\n",
      "0.0 0.0 0.0 0.0 0.0 0.0 0.0 0.0\n",
      "0.0 0.0 0.0 0.0 0.0 0.0 0.0 0.0\n",
      "0.0 0.0 0.0 0.0 0.0 0.0 0.0 0.0\n",
      "0.0 0.0 0.0 0.0 0.0 0.0 0.0 0.0\n",
      "\n",
      "1.0 0.0 -1.0 0.0 0.0 0.0 0.0 0.0\n",
      "0.0 1.0 0.0 -1.0 0.0 0.0 0.0 0.0\n",
      "0.0 0.0 0.0 0.0 0.0 0.0 0.0 0.0\n",
      "0.0 0.0 0.0 0.0 0.0 0.0 0.0 0.0\n",
      "0.0 0.0 0.0 0.0 0.0 0.0 0.0 0.0\n",
      "0.0 0.0 0.0 0.0 0.0 0.0 0.0 0.0\n",
      "0.0 0.0 0.0 0.0 0.0 0.0 0.0 0.0\n",
      "0.0 0.0 0.0 0.0 0.0 0.0 0.0 0.0\n",
      "\n",
      "1.0 0.0 -1.0 0.0 0.0 0.0 0.0 0.0\n",
      "0.0 1.0 0.0 -1.0 0.0 0.0 0.0 0.0\n",
      "0.0 0.0 0.0 0.0 0.0 0.0 0.0 0.0\n",
      "0.0 0.0 0.0 0.0 0.0 0.0 0.0 0.0\n",
      "0.0 0.0 0.0 0.0 0.0 0.0 0.0 0.0\n",
      "0.0 0.0 0.0 0.0 0.0 0.0 0.0 0.0\n",
      "0.0 0.0 0.0 0.0 0.0 0.0 0.0 0.0\n",
      "0.0 0.0 0.0 0.0 0.0 0.0 0.0 0.0\n",
      "\n",
      "1.0 0.0 -1.0 0.0 0.0 0.0 0.0 0.0\n",
      "0.0 1.0 0.0 -1.0 0.0 0.0 0.0 0.0\n",
      "0.0 0.0 0.0 0.0 0.0 0.0 0.0 0.0\n",
      "0.0 0.0 0.0 0.0 0.0 0.0 0.0 0.0\n",
      "0.0 0.0 0.0 0.0 0.0 0.0 0.0 0.0\n",
      "0.0 0.0 0.0 0.0 0.0 0.0 0.0 0.0\n",
      "0.0 0.0 -1.0 0.0 0.0 0.0 1.0 0.0\n",
      "0.0 0.0 0.0 -1.0 0.0 0.0 0.0 1.0\n",
      "\n",
      "1.0 0.0 -1.0 0.0 0.0 0.0 0.0 0.0\n",
      "0.0 1.0 0.0 -1.0 0.0 0.0 0.0 0.0\n",
      "0.0 0.0 0.0 0.0 0.0 0.0 0.0 0.0\n",
      "0.0 0.0 0.0 0.0 0.0 0.0 0.0 0.0\n",
      "0.0 0.0 0.0 0.0 0.0 0.0 0.0 0.0\n",
      "0.0 0.0 0.0 0.0 0.0 0.0 0.0 0.0\n",
      "0.0 0.0 -1.0 0.0 0.0 0.0 1.0 0.0\n",
      "0.0 0.0 0.0 -1.0 0.0 0.0 0.0 1.0\n",
      "\n",
      "1.0 0.0 -1.0 0.0 0.0 0.0 0.0 0.0\n",
      "0.0 1.0 0.0 -1.0 0.0 0.0 0.0 0.0\n",
      "0.0 0.0 0.0 0.0 0.0 0.0 0.0 0.0\n",
      "0.0 0.0 0.0 0.0 0.0 0.0 0.0 0.0\n",
      "0.0 0.0 0.0 0.0 0.0 0.0 0.0 0.0\n",
      "0.0 0.0 0.0 0.0 0.0 0.0 0.0 0.0\n",
      "0.0 0.0 -1.0 0.0 0.0 0.0 1.0 0.0\n",
      "0.0 0.0 0.0 -1.0 0.0 0.0 0.0 1.0\n",
      "\n",
      "1.0 0.0 -1.0 0.0 0.0 0.0 0.0 0.0\n",
      "0.0 1.0 0.0 -1.0 0.0 0.0 0.0 0.0\n",
      "0.0 0.0 0.0 0.0 0.0 0.0 0.0 0.0\n",
      "0.0 0.0 0.0 0.0 0.0 0.0 0.0 0.0\n",
      "0.0 0.0 0.0 0.0 0.0 0.0 0.0 0.0\n",
      "0.0 0.0 0.0 0.0 0.0 0.0 0.0 0.0\n",
      "0.0 0.0 0.0 0.0 0.0 0.0 0.0 0.0\n",
      "0.0 0.0 0.0 0.0 0.0 0.0 0.0 0.0\n",
      "\n",
      "1.0 0.0 -1.0 0.0 0.0 0.0 0.0 0.0\n",
      "0.0 1.0 0.0 -1.0 0.0 0.0 0.0 0.0\n",
      "0.0 0.0 0.0 0.0 0.0 0.0 0.0 0.0\n",
      "0.0 0.0 0.0 0.0 0.0 0.0 0.0 0.0\n",
      "0.0 0.0 0.0 0.0 0.0 0.0 0.0 0.0\n",
      "0.0 0.0 0.0 0.0 0.0 0.0 0.0 0.0\n",
      "0.0 0.0 0.0 0.0 0.0 0.0 0.0 0.0\n",
      "0.0 0.0 0.0 0.0 0.0 0.0 0.0 0.0\n",
      "\n",
      "1.0 0.0 -1.0 0.0 0.0 0.0 0.0 0.0\n",
      "0.0 1.0 0.0 -1.0 0.0 0.0 0.0 0.0\n",
      "0.0 0.0 0.0 0.0 0.0 0.0 0.0 0.0\n",
      "0.0 0.0 0.0 0.0 0.0 0.0 0.0 0.0\n",
      "0.0 0.0 0.0 0.0 0.0 0.0 0.0 0.0\n",
      "0.0 0.0 0.0 0.0 0.0 0.0 0.0 0.0\n",
      "0.0 0.0 0.0 0.0 0.0 0.0 0.0 0.0\n",
      "0.0 0.0 0.0 0.0 0.0 0.0 0.0 0.0\n",
      "\n",
      "1.0 0.0 -1.0 0.0 0.0 0.0 0.0 0.0\n",
      "0.0 1.0 0.0 -1.0 0.0 0.0 0.0 0.0\n",
      "0.0 0.0 0.0 0.0 0.0 0.0 0.0 0.0\n",
      "0.0 0.0 0.0 0.0 0.0 0.0 0.0 0.0\n",
      "0.0 0.0 0.0 0.0 0.0 0.0 0.0 0.0\n",
      "0.0 0.0 0.0 0.0 0.0 0.0 0.0 0.0\n",
      "0.0 0.0 0.0 0.0 0.0 0.0 0.0 0.0\n",
      "0.0 0.0 0.0 0.0 0.0 0.0 0.0 0.0\n",
      "\n",
      "1.0 0.0 -1.0 0.0 0.0 0.0 0.0 0.0\n",
      "0.0 1.0 0.0 -1.0 0.0 0.0 0.0 0.0\n",
      "0.0 0.0 0.0 0.0 0.0 0.0 0.0 0.0\n",
      "0.0 0.0 0.0 0.0 0.0 0.0 0.0 0.0\n",
      "0.0 0.0 0.0 0.0 0.0 0.0 0.0 0.0\n",
      "0.0 0.0 0.0 0.0 0.0 0.0 0.0 0.0\n",
      "0.0 0.0 0.0 0.0 0.0 0.0 0.0 0.0\n",
      "0.0 0.0 0.0 0.0 0.0 0.0 0.0 0.0\n",
      "\n",
      "1.0 0.0 -1.0 0.0 0.0 0.0 0.0 0.0\n",
      "0.0 1.0 0.0 -1.0 0.0 0.0 0.0 0.0\n",
      "0.0 0.0 0.0 0.0 0.0 0.0 0.0 0.0\n",
      "0.0 0.0 0.0 0.0 0.0 0.0 0.0 0.0\n",
      "0.0 0.0 0.0 0.0 0.0 0.0 0.0 0.0\n",
      "0.0 0.0 0.0 0.0 0.0 0.0 0.0 0.0\n",
      "0.0 0.0 0.0 0.0 0.0 0.0 0.0 0.0\n",
      "0.0 0.0 0.0 0.0 0.0 0.0 0.0 0.0\n",
      "\n",
      "1.0 0.0 -1.0 0.0 0.0 0.0 0.0 0.0\n",
      "0.0 1.0 0.0 -1.0 0.0 0.0 0.0 0.0\n",
      "0.0 0.0 0.0 0.0 0.0 0.0 0.0 0.0\n",
      "0.0 0.0 0.0 0.0 0.0 0.0 0.0 0.0\n",
      "0.0 0.0 0.0 0.0 0.0 0.0 0.0 0.0\n",
      "0.0 0.0 0.0 0.0 0.0 0.0 0.0 0.0\n",
      "0.0 0.0 0.0 0.0 0.0 0.0 0.0 0.0\n",
      "0.0 0.0 0.0 0.0 0.0 0.0 0.0 0.0\n",
      "\n",
      "1.0 0.0 -1.0 0.0 0.0 0.0 0.0 0.0\n",
      "0.0 1.0 0.0 -1.0 0.0 0.0 0.0 0.0\n",
      "0.0 0.0 0.0 0.0 0.0 0.0 0.0 0.0\n",
      "0.0 0.0 0.0 0.0 0.0 0.0 0.0 0.0\n",
      "0.0 0.0 0.0 0.0 0.0 0.0 0.0 0.0\n",
      "0.0 0.0 0.0 0.0 0.0 0.0 0.0 0.0\n",
      "0.0 0.0 0.0 0.0 0.0 0.0 0.0 0.0\n",
      "0.0 0.0 0.0 0.0 0.0 0.0 0.0 0.0\n",
      "\n",
      "1.0 0.0 -1.0 0.0 0.0 0.0 0.0 0.0\n",
      "0.0 1.0 0.0 -1.0 0.0 0.0 0.0 0.0\n",
      "0.0 0.0 0.0 0.0 0.0 0.0 0.0 0.0\n",
      "0.0 0.0 0.0 0.0 0.0 0.0 0.0 0.0\n",
      "0.0 0.0 0.0 0.0 0.0 0.0 0.0 0.0\n",
      "0.0 0.0 0.0 0.0 0.0 0.0 0.0 0.0\n",
      "0.0 0.0 -1.0 0.0 0.0 0.0 1.0 0.0\n",
      "0.0 0.0 0.0 -1.0 0.0 0.0 0.0 1.0\n"
     ]
    }
   ],
   "source": [
    "for e in PB.HFictStencil4:\n",
    "    print\n",
    "    for l in PB.dm_PtVec.Get_List(e):\n",
    "        for m in PB.dm_PtVec.Get_List(e):\n",
    "            print Kf[l,m]/4.5,\n",
    "        print "
   ]
  },
  {
   "cell_type": "code",
   "execution_count": 42,
   "metadata": {
    "collapsed": false
   },
   "outputs": [
    {
     "name": "stdout",
     "output_type": "stream",
     "text": [
      "\n",
      "[ 0.  0.  0.  0.  0.  0.]\n",
      "1.0 0.0 -1.0 0.0 0.0 0.0\n",
      "0.0 1.0 0.0 -1.0 0.0 0.0\n",
      "0.0 0.0 1.0 0.0 -1.0 0.0\n",
      "0.0 0.0 0.0 1.0 0.0 -1.0\n",
      "0.0 0.0 0.0 0.0 0.0 0.0\n",
      "0.0 0.0 0.0 0.0 0.0 0.0\n",
      "\n",
      "[ 0.  0.  0.  0.  0.  0.]\n",
      "1.0 0.0 -1.0 0.0 0.0 0.0\n",
      "0.0 1.0 0.0 -1.0 0.0 0.0\n",
      "0.0 0.0 1.0 0.0 -1.0 0.0\n",
      "0.0 0.0 0.0 1.0 0.0 -1.0\n",
      "0.0 0.0 0.0 0.0 0.0 0.0\n",
      "0.0 0.0 0.0 0.0 0.0 0.0\n",
      "\n",
      "[ 0. -1.  0.  0.  0.  0.]\n",
      "1.0 0.0 -1.0 0.0 0.0 0.0\n",
      "0.0 1.0 0.0 -1.0 0.0 0.0\n",
      "0.0 0.0 1.0 0.0 -1.0 0.0\n",
      "0.0 0.0 0.0 1.0 0.0 -1.0\n",
      "0.0 0.0 0.0 0.0 0.0 0.0\n",
      "0.0 0.0 0.0 0.0 0.0 0.0\n",
      "\n",
      "[ 0. -1.  0.  0.  0.  0.]\n",
      "1.0 0.0 -1.0 0.0 0.0 0.0\n",
      "0.0 1.0 0.0 -1.0 0.0 0.0\n",
      "0.0 0.0 1.0 0.0 -1.0 0.0\n",
      "0.0 0.0 0.0 1.0 0.0 -1.0\n",
      "0.0 0.0 0.0 0.0 0.0 0.0\n",
      "0.0 0.0 0.0 0.0 0.0 0.0\n"
     ]
    }
   ],
   "source": [
    "for e in PB.HFictStencil3:\n",
    "    print\n",
    "    print Rf[PB.dm_PtVec.Get_List(e)]\n",
    "    for l in PB.dm_PtVec.Get_List(e):\n",
    "        for m in PB.dm_PtVec.Get_List(e):\n",
    "            print Kf[l,m]/4.5,\n",
    "        \n",
    "        print "
   ]
  },
  {
   "cell_type": "code",
   "execution_count": 41,
   "metadata": {
    "collapsed": false,
    "scrolled": false
   },
   "outputs": [
    {
     "data": {
      "text/plain": [
       "array([ 0.,  0.,  0.,  0.,  0.,  0.,  0.,  0.,  0.,  0.,  0.,  0.,  0.,\n",
       "        0.,  0.,  0.,  0.,  0.,  0.,  0.,  0.,  0.,  0.,  0.,  0.,  0.,\n",
       "        0.,  0.,  0.,  0.,  0.,  0.,  0.,  0.,  0.,  0.,  0.,  0.,  0.,\n",
       "        0.,  0.,  0.,  0.,  0.,  0.,  0.,  0.,  0.,  0.,  0.,  0.,  0.,\n",
       "        0.,  0.,  0.,  0.,  0.,  0.,  0.,  0.,  0.,  0.,  0.,  0.,  0.,\n",
       "        0.,  0.,  0.,  0.,  0.,  0.,  0.,  0.,  0.,  0.,  0.,  0.,  0.,\n",
       "        0.,  0.,  0.,  0.,  0.,  0.,  0.,  0.,  0.,  0.,  0.,  0.,  0.,\n",
       "        0.,  0.,  0.,  0.,  0.,  0.,  0.,  0.,  0.,  0.,  0.,  0.,  0.,\n",
       "        0.,  0.,  0.,  0.,  0.,  0.,  0.,  0.,  0.,  0.,  0.,  0.,  0.,\n",
       "        0.,  0.,  0.,  0.,  0.,  0.,  0.,  0.,  0.,  0.,  0.,  0.,  0.,\n",
       "        0.,  0.,  0.,  0.,  0.,  0.,  0.,  0.,  0.,  0.,  0.,  0.,  0.,\n",
       "        0.,  0.,  0.,  0.,  0.,  0.,  0.,  0.,  0.,  0.,  0.,  0.,  0.,\n",
       "        0.,  0.,  0.,  0.,  0.,  0.,  0.,  0.,  0.,  0.,  0.,  0.,  0.,\n",
       "        0.,  0.,  0.,  0.,  0.,  0.,  0.,  0.,  0.,  0.,  0.,  0.,  0.,\n",
       "        0.,  0.,  0.,  0.,  0.,  0.,  0.,  0.,  0.,  0.,  0.,  0.,  0.,\n",
       "        0.,  0.,  0.,  0.,  0.,  0.,  0.,  0.,  0.,  0.,  0.,  0.,  0.,\n",
       "        0.,  0.,  0.,  0.,  0.,  0.,  0.,  0.,  0.,  0.,  0.,  0.,  0.,\n",
       "        0.,  0.,  0.,  0.,  0.,  0.,  0.,  0.,  0.,  0.,  0.,  0.,  0.,\n",
       "        0.,  0.,  0.,  0.,  0.,  0.,  0.,  0.,  0.,  0.,  0.,  0.,  0.,\n",
       "        0.,  0.,  0.,  0.,  0.,  0.,  0.,  0.,  0.,  0.,  0.,  0.,  0.,\n",
       "        0.,  0.,  0.,  0.,  0., -1.,  0., -1.,  0., -1.,  0., -1.,  0.,\n",
       "       -1.,  0., -1.,  0., -1.,  0., -1.,  0., -1.,  0., -1.,  0., -1.,\n",
       "        0., -1.])"
      ]
     },
     "execution_count": 41,
     "metadata": {},
     "output_type": "execute_result"
    }
   ],
   "source": [
    "Rf"
   ]
  },
  {
   "cell_type": "markdown",
   "metadata": {},
   "source": [
    "## Finite difference stencil\n",
    "\n",
    "These types of surface correction effects are implemented in [ficticious_kernels_pop.py](PeriFlakes/ficticious_kernels_pop.py). \n",
    "The finite difference stencil can be generalized by defined a strain between two points,\n",
    "\\begin{equation}\n",
    "\\epsilon^{ab} = \\frac{\\left(\\mathbf{u}^a-\\mathbf{u}^b\\right)\\cdot\n",
    "\t                  \\left(\\mathbf{x}^a-\\mathbf{x}^b\\right) }{\n",
    "\t\t\t\t\t  \\left(\\mathbf{x}^a-\\mathbf{x}^b\\right)\\cdot\n",
    "\t                  \\left(\\mathbf{x}^a-\\mathbf{x}^b\\right) },\n",
    "\\end{equation}\n",
    "and a normal between two points,\n",
    "\\begin{equation}\n",
    "\\mathbf{n}^{ab} = \\frac{\\mathbf{x}^a-\\mathbf{x}^b}{\\left|\\mathbf{x}^a-\\mathbf{x}^b\\right|},\n",
    "\\end{equation}\n",
    "where $a$ and $b$ are index arguments.\n",
    "Then, in the direction normal to the surface, $\\mathbf{n}^n = \\mathbf{n}^{fo}$ and $\\epsilon^n=\\epsilon^{fo}$.\n",
    "In the tangential direction, the normal and strain are averaged by both directions to obtain a central finite difference,\n",
    "$\\mathbf{n}^t = \\left( \\mathbf{n}^{+o} + \\mathbf{n}^{o-} \\right) / 2$ and \n",
    "$\\epsilon^t = \\left( \\epsilon^{+o} + \\epsilon^{o-} \\right) / 2$. \n",
    "If the ficticious node is all the way at an end, only one of the winded directions is used. The final constraint is\n",
    "\\begin{equation}\n",
    "0 = \\epsilon^{n}\\mathbf{n}^n + \\nu \\epsilon^t \\mathbf{n}^t -\n",
    "\\bar{\\mathbf{t}} * \\frac{1}{E} \\left[\\begin{array}{cc}\n",
    "1+\\nu & 1-\\nu^{2}\\\\\\\\\n",
    "1-\\nu^{2} & 1+\\nu\n",
    "\\end{array} \\right] \\mathbf{n}^n\n",
    "\\end{equation}\n",
    "where $*$ is elementwise multiplication."
   ]
  },
  {
   "cell_type": "code",
   "execution_count": 43,
   "metadata": {
    "collapsed": false
   },
   "outputs": [
    {
     "data": {
      "image/png": "[encoded data removed]",
      "text/plain": [
       "<matplotlib.figure.Figure at 0x7f04a7865e50>"
      ]
     },
     "metadata": {},
     "output_type": "display_data"
    }
   ],
   "source": [
    "u = PB.solve(\"Fstab_Silling\",\"cubic\",stab=1.0,fictmet='bobaru')\n",
    "N = int(PB.NPart**0.5)\n",
    "u = u.reshape(N,N,2)\n",
    "x = PB.x.reshape(N,N,2)\n",
    "ax = plt.gca()\n",
    "ax.quiver(x[:,:,0],x[:,:,1],u[:,:,0],u[:,:,1],angles='uv',scale_units='xy',scale=10.0)\n",
    "ax.set_aspect('equal', 'datalim')"
   ]
  },
  {
   "cell_type": "code",
   "execution_count": 44,
   "metadata": {
    "collapsed": false
   },
   "outputs": [
    {
     "data": {
      "image/png": "[encoded data removed]",
      "text/plain": [
       "<matplotlib.figure.Figure at 0x7f04a7241090>"
      ]
     },
     "metadata": {},
     "output_type": "display_data"
    }
   ],
   "source": [
    "plt.plot(x[:,N/2,1],u[:,N/2,1])\n",
    "plt.plot([-1,1],[0,solutions['uniaxial'][1]])\n",
    "plt.xlabel('y'); plt.ylabel('u_x');"
   ]
  },
  {
   "cell_type": "code",
   "execution_count": 45,
   "metadata": {
    "collapsed": false
   },
   "outputs": [
    {
     "data": {
      "image/png": "[encoded data removed]",
      "text/plain": [
       "<matplotlib.figure.Figure at 0x7f04a72cf5d0>"
      ]
     },
     "metadata": {},
     "output_type": "display_data"
    }
   ],
   "source": [
    "plt.plot(x[:,N/2,1],u[N/2,:,0],label='halfway');\n",
    "plt.plot(x[:,N/2,1],u[-1,:,0],label='top');\n",
    "plt.legend()\n",
    "plt.xlabel('x'); plt.ylabel('u_x');"
   ]
  },
  {
   "cell_type": "code",
   "execution_count": null,
   "metadata": {
    "collapsed": true
   },
   "outputs": [],
   "source": []
  },
  {
   "cell_type": "code",
   "execution_count": null,
   "metadata": {
    "collapsed": true
   },
   "outputs": [],
   "source": []
  },
  {
   "cell_type": "code",
   "execution_count": null,
   "metadata": {
    "collapsed": true
   },
   "outputs": [],
   "source": []
  }
 ],
 "metadata": {
  "kernelspec": {
   "display_name": "Python 2",
   "language": "python",
   "name": "python2"
  },
  "language_info": {
   "codemirror_mode": {
    "name": "ipython",
    "version": 2
   },
   "file_extension": ".py",
   "mimetype": "text/x-python",
   "name": "python",
   "nbconvert_exporter": "python",
   "pygments_lexer": "ipython2",
   "version": "2.7.12"
  }
 },
 "nbformat": 4,
 "nbformat_minor": 2
}
