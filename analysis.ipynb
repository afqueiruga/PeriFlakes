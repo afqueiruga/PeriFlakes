{
 "cells": [
  {
   "cell_type": "markdown",
   "metadata": {},
   "source": [
    "# A Comprehensive Analysis of Peridynamics\n",
    "\n",
    "Alejandro Francisco Queiruga\n",
    "\n",
    "**TL;DR:** I advise against the use of Peridynamics.\n",
    "\n",
    "## Introduction\n",
    "\n",
    "This notebook replicates some of the results of \n",
    "\n",
    "> Queiruga, A. F. and G. J. Moridis, \"Numerical experiments on \n",
    ">  the convergence properties of state-based peridynamic laws and \n",
    ">  influence functions in two-dimensional problems.\" Computer \n",
    ">  Methods in Applied Mechanics and Engineering 322 (2017): \n",
    ">  97-122.\n",
    "\n",
    "PeriFlakes, of which is this notebook is a part, is an open source implementation of Peridynamics that can quickly generate and analyze state-based schemes. The database in this repository contains the solutions of a huge set of runs with many permutations on the theory on constant-strain problems and the thin crack problem. \n",
    "\n",
    "I like to use my SimDataDB wrapper for cursor and entry-adding management, but it is just a regular *sqlite3* table. There are four tables, each with with the same five columns:"
   ]
  },
  {
   "cell_type": "code",
   "execution_count": 17,
   "metadata": {
    "scrolled": true
   },
   "outputs": [
    {
     "name": "stdout",
     "output_type": "stream",
     "text": [
      "[[u'uniaxial']]\n",
      "[(u'method', u'TEXT'), (u'weight', u'TEXT'), (u'RF', u'FLOAT'), (u'N', u'INT'), (u'u', u'array')]\n"
     ]
    }
   ],
   "source": [
    "from SimDataDB import *\n",
    "sdb = SimDataDB('PeriFlakes/results.db')\n",
    "print sdb.Query(\"SELECT name FROM sqlite_master WHERE type='table';\")\n",
    "print [ (_[1],_[2]) for _ in sdb.Query(\"PRAGMA table_info(uniaxial)\")]"
   ]
  },
  {
   "cell_type": "markdown",
   "metadata": {},
   "source": [
    "The first two columns label the scheme by constitutive law and weight (influence) function $w$, $RF$ is the support radius (which is also an artificial hyperparameter!), $N$ is the number of nodes along one side of the $(-1,1)\\times(-1,1)$ domain, and $u$ is a binary blob of the entire numpy array storing the solution."
   ]
  },
  {
   "cell_type": "markdown",
   "metadata": {
    "collapsed": true
   },
   "source": [
    "# Constant Strain Problems\n",
    "\n",
    "This is a diagram of the three main modes of constant strain:\n",
    "\n",
    "![three modes](images/blocks.png)\n",
    "\n",
    "(The bottom of the uniaxial and shear domains are also rollers.)"
   ]
  },
  {
   "cell_type": "code",
   "execution_count": null,
   "metadata": {
    "collapsed": true
   },
   "outputs": [],
   "source": []
  },
  {
   "cell_type": "markdown",
   "metadata": {},
   "source": [
    "## Thin Crack\n",
    "\n",
    "![cracks](images/crack_diagram.png)"
   ]
  },
  {
   "cell_type": "code",
   "execution_count": null,
   "metadata": {
    "collapsed": true
   },
   "outputs": [],
   "source": []
  }
 ],
 "metadata": {
  "kernelspec": {
   "display_name": "Python 2",
   "language": "python",
   "name": "python2"
  },
  "language_info": {
   "codemirror_mode": {
    "name": "ipython",
    "version": 2
   },
   "file_extension": ".py",
   "mimetype": "text/x-python",
   "name": "python",
   "nbconvert_exporter": "python",
   "pygments_lexer": "ipython2",
   "version": "2.7.13"
  }
 },
 "nbformat": 4,
 "nbformat_minor": 2
}
